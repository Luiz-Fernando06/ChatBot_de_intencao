{
  "nbformat": 4,
  "nbformat_minor": 0,
  "metadata": {
    "colab": {
      "provenance": [],
      "authorship_tag": "ABX9TyMy8JTLpunZHpUIZEt1TcGh",
      "include_colab_link": true
    },
    "kernelspec": {
      "name": "python3",
      "display_name": "Python 3"
    },
    "language_info": {
      "name": "python"
    }
  },
  "cells": [
    {
      "cell_type": "markdown",
      "metadata": {
        "id": "view-in-github",
        "colab_type": "text"
      },
      "source": [
        "<a href=\"https://colab.research.google.com/github/Luiz-Fernando06/ChatBot_de_intencao/blob/main/pythonzin_2.ipynb\" target=\"_parent\"><img src=\"https://colab.research.google.com/assets/colab-badge.svg\" alt=\"Open In Colab\"/></a>"
      ]
    },
    {
      "cell_type": "markdown",
      "source": [
        "# ***CONDIÇOES ANINHADAS***"
      ],
      "metadata": {
        "id": "5t9FNt3rLQth"
      }
    },
    {
      "cell_type": "code",
      "execution_count": null,
      "metadata": {
        "id": "QguVH6PFJ19a"
      },
      "outputs": [],
      "source": [
        "#Aqui agora usaremos o senão se (elif)\n",
        "#Estrutura condicional aninhada exemplo:\n",
        "\"\"\"\n",
        "if condição: #Se a condição for verdadeira\n",
        "  bloco de codigo_V_\n",
        "    (..)\n",
        "\n",
        "elif condição: #Se a condição anterior for falsa e a nova for verdadeira\n",
        "  bloco de codigo_V_\n",
        "    (..)\n",
        "\n",
        "else: #Se a condição for falsa\n",
        "  bloco de codigo_F_\n",
        "    (..)\n",
        "\"\"\"\n",
        "\n",
        "#Obs: Não posso criar um elif sem o if\n",
        "#Obs: O else é opicional posso criar if e elif sem o else\n",
        "#Obs: O else só pode ser usado uma vez\n",
        "#Obs: Posso criar quantos elif eu quiser"
      ]
    },
    {
      "cell_type": "code",
      "source": [
        "#Estrutura condicional aninhada:\n",
        "nome = str (input(\"Qual é seu nome? \"))\n",
        "if nome == \"Luiz\":\n",
        "  print(\"Que nome bonito!\")\n",
        "\n",
        "elif nome == \"Pedro\" or nome == \"Paulo\":\n",
        "  print(\"Seu nome é bem popular no Brasil.\")\n",
        "\n",
        "elif nome in \"Ana Claudia Jéssica Juliana\":\n",
        "  print(\"Belo nome feminino\")\n",
        "\n",
        "else:\n",
        "  print(\"Seu nome é bem normal.\")\n",
        "print('Tenha um bom dia, {}!'.format(nome))"
      ],
      "metadata": {
        "colab": {
          "base_uri": "https://localhost:8080/"
        },
        "id": "m4Mrzr-xN120",
        "outputId": "84eb76b2-1e4c-4e90-ce16-053dd4069098"
      },
      "execution_count": null,
      "outputs": [
        {
          "output_type": "stream",
          "name": "stdout",
          "text": [
            "Qual é seu nome? Juliana\n",
            "Belo nome feminino\n",
            "Tenha um bom dia, Juliana!\n"
          ]
        }
      ]
    },
    {
      "cell_type": "markdown",
      "source": [
        "# ***Ex.31 - Escreva um programa para aprovar o empréstimo bancario para a compra de uma casa. O programa vai perguntar o VALOR DA CASA, o SALARIO DO COMPRADOR e em QUANTOS ANOS ELE VAI PAGAR. Calcule o valor da prestação mensal, sabendo que ela não pode exceder 30% do salario ou então o emprestimo sera negado***"
      ],
      "metadata": {
        "id": "fVHPsrsvP0UR"
      }
    },
    {
      "cell_type": "code",
      "source": [
        "valor_da_casa = float(input(\"Valor da casa: R$\"))\n",
        "salario = float(input(\"Salario do comprador: R$\"))\n",
        "anos = int(input(\"Quantos anos de financiamento: \"))\n",
        "\n",
        "prestacao = valor_da_casa / (anos * 12)\n",
        "minimo = salario * 30 / 100\n",
        "\n",
        "print(\"Para pagar uma casa de R${:.2f} em {} anos\".format(valor_da_casa, anos), end=\" \")\n",
        "print(\"a prestação será de R${:.2f}.\".format(prestacao), end=\" \")\n",
        "\n",
        "print(\"Emprrestimo CONCEDIDO\" if prestacao <= minimo else \"Emprestimo NEGADO\")"
      ],
      "metadata": {
        "id": "fqV0XZNWQ-GD",
        "colab": {
          "base_uri": "https://localhost:8080/"
        },
        "outputId": "0ad78512-6ebd-46ce-b51c-87f6700f328d"
      },
      "execution_count": null,
      "outputs": [
        {
          "output_type": "stream",
          "name": "stdout",
          "text": [
            "Valor da casa: R$120000\n",
            "Salario do comprador: R$5000\n",
            "Quantos anos de financiamento: 10\n",
            "Para pagar uma casa de R$120000.00 em 10 anos a prestação será de R$1000.00. Emprrestimo CONCEDIDO\n"
          ]
        }
      ]
    },
    {
      "cell_type": "markdown",
      "source": [
        "# ***Ex.32 - Escreva um programa que leia um numero inteiro qualquer e peça para o usuario escolher qual sera a base de conversão***\n",
        "# ***-1 para binario***\n",
        "# ***-2 para octal***\n",
        "# ***-3 para hexadecimal***"
      ],
      "metadata": {
        "id": "K3FDHHR_RRpu"
      }
    },
    {
      "cell_type": "code",
      "source": [
        "n1 = int(input(\"Digite um número inteiro: \"))\n",
        "print(\"Escolha uma base de conversão:\")\n",
        "print(\"[1] De decimal para binario \\n[2] De decimal para octal \\n[3] De decimal para hexadecimal\")\n",
        "opcao = int(input(\"Escolha uma opção de base: \"))\n",
        "\n",
        "if opcao == 1:\n",
        "  binario = bin(n1)[2:] #Fatiamento para tirar os prefixos\n",
        "  print(\"{} convertido para binario é {}\".format(n1, binario))\n",
        "\n",
        "elif opcao == 2:\n",
        "  octal = oct(n1)[2:]\n",
        "  print(\"{} convertido para octal é {}\".format(n1, octal))\n",
        "\n",
        "elif opcao == 3:\n",
        "  hexadecimal = hex(n1)[2:]\n",
        "  print(\"{} convertido para hexadecimal é {}\".format(n1, hexadecimal.upper()))\n",
        "\n",
        "else:\n",
        "  print(\"Opção invalida, tente novamente\")"
      ],
      "metadata": {
        "id": "013vuXDxR9uG",
        "colab": {
          "base_uri": "https://localhost:8080/"
        },
        "outputId": "19512cb7-59e4-481a-f766-82e36479ed3e"
      },
      "execution_count": null,
      "outputs": [
        {
          "output_type": "stream",
          "name": "stdout",
          "text": [
            "Digite um número inteiro: 444\n",
            "Escolha uma base de conversão:\n",
            "[1] De decimal para binario \n",
            "[2] De decimal para octal \n",
            "[3] De decimal para hexadecimal\n",
            "Escolha uma opção de base: 3\n",
            "444 convertido para hexadecimal é 1BC\n"
          ]
        }
      ]
    },
    {
      "cell_type": "markdown",
      "source": [
        "# ***Ex.33 - Escreva um programa que leia dois numeros inteiros e compare-os mostrando na tela uma mensagem:***\n",
        "# ***- O primeiro valor é maior***\n",
        "# ***- O segundo valor é maior***\n",
        "# ***- Não exite valor maior, os dois são iguais***"
      ],
      "metadata": {
        "id": "l9FPwWFVSB3X"
      }
    },
    {
      "cell_type": "code",
      "source": [
        "n1 = int(input('Digite o primeiro valor: '))\n",
        "n2 = int(input('Digite o segundo valor: '))\n",
        "\n",
        "if n1 > n2:\n",
        "  print(\"O primeiro valor é maior\")\n",
        "elif n2 > n1:\n",
        "  print(\"O segundo valor é maior\")\n",
        "else:\n",
        "  print(\"Não existe valor maior, os dois são iguais\")"
      ],
      "metadata": {
        "id": "0KhYmoj6T0dg",
        "colab": {
          "base_uri": "https://localhost:8080/"
        },
        "outputId": "2f83959c-41de-4c29-c7d5-f5ce8ab41aff"
      },
      "execution_count": null,
      "outputs": [
        {
          "output_type": "stream",
          "name": "stdout",
          "text": [
            "Digite o primeiro valor: 12\n",
            "Digite o segundo valor: 12\n",
            "Não existe valor maior, os dois são iguais\n"
          ]
        }
      ]
    },
    {
      "cell_type": "markdown",
      "source": [
        "# ***Ex.34 - Faça um programa que leia o ano de nascimento d um jovem e informe, de acordo com sua idade:***\n",
        "# ***-Se ele ainda vai se alistar ao serviço  militar.***\n",
        "# ***-Se é a hora de se alistar***\n",
        "# ***-Se ja passou já passou  do tempo do alistamento***\n",
        "# ***Seu programa  tambem devera mostrar o tempo que falta ou que passou do prazo. ***\n",
        "\n"
      ],
      "metadata": {
        "id": "xKDPp_KvT7K2"
      }
    },
    {
      "cell_type": "code",
      "source": [
        "from datetime import date\n",
        "ano_atual = date.today().year #Defini meu ano atual\n",
        "sexo = input(\"Digite o seu sexo: \").strip().upper()\n",
        "\n",
        "if \"F\" in sexo: #F\n",
        "  print(\"Você não precisa se alistar\")\n",
        "\n",
        "elif \"M\" in sexo: #M\n",
        "  ano_nacimento = int(input(\"Digite o ano que você nasceu: \"))\n",
        "  alistamento = ano_atual - ano_nacimento\n",
        "  if alistamento < 18:\n",
        "   print(\"Esse candidato ainda vai se alistar ao serviço militar\", end=\" \")\n",
        "   print(\"no ano de {}\".format(ano_atual + (18 - alistamento)))\n",
        "   print(\"faltam {} ano para o candidato se alistar\".format(18 - alistamento))\n",
        "\n",
        "  elif alistamento == 18:\n",
        "   print(\"Esse candidato está na hora de se alistar\", end=\". \")\n",
        "   print(\"Seu alistamento será nesse ano de {}\".format(ano_atual))\n",
        "\n",
        "  elif alistamento > 18:\n",
        "   print(\"Esse candidato ja deveria ter se alistado\", end=\" \")\n",
        "   print(\"no ano de {}\".format(ano_atual - (alistamento - 18)))\n",
        "   print(\"Ja se passou {} ano\".format(alistamento - 18))\n"
      ],
      "metadata": {
        "id": "2wbPosoRVNr5",
        "colab": {
          "base_uri": "https://localhost:8080/"
        },
        "outputId": "4d30a6e3-9e6a-4e05-8801-350f8c4724ec"
      },
      "execution_count": null,
      "outputs": [
        {
          "output_type": "stream",
          "name": "stdout",
          "text": [
            "Digite o seu sexo: m\n",
            "Digite o ano que você nasceu: 2010\n",
            "Esse candidato ainda vai se alistar ao serviço militar no ano de 2028\n",
            "faltam 3 ano para o candidato se alistar\n"
          ]
        }
      ]
    },
    {
      "cell_type": "markdown",
      "source": [
        "# ***Ex.35 - Crie um programa que leia duas notas de um aluno e calcule sua média atingida:***\n",
        "# ***-Media abaixo de 5.0: Reprovado***\n",
        "# ***-Media entre 5.0 e 6.9: Recuperação***\n",
        "# ***-Media 7.0 ou superior: Aprovado***"
      ],
      "metadata": {
        "id": "6N-POU_xVgON"
      }
    },
    {
      "cell_type": "code",
      "source": [
        "nota1 = float(input(\"Digite a primeira nota: \"))\n",
        "nota2 = float(input(\"Digite a segunda nota: \"))\n",
        "media = (nota1 + nota2) / 2\n",
        "\n",
        "if media < 5.0:\n",
        "  print(\"Reprovado,\", end=\" \")\n",
        "elif media >= 5.0 and media <= 6.9: #elif 6.9 >= media >= 5 Outra forma de se fazer sem usar o and\n",
        "  print(\"Recuperação,\",  end=\" \")\n",
        "else:\n",
        "  print(\"Aprovado,\",  end=\" \")\n",
        "\n",
        "print(\"sua média foi: {:.1f}\".format(media))"
      ],
      "metadata": {
        "id": "xrndp5tBWI5l",
        "colab": {
          "base_uri": "https://localhost:8080/"
        },
        "outputId": "ff168366-898a-40ab-90b4-c419b7697b51"
      },
      "execution_count": null,
      "outputs": [
        {
          "output_type": "stream",
          "name": "stdout",
          "text": [
            "Digite a primeira nota: 5\n",
            "Digite a segunda nota: 7\n",
            "Recuperação, sua média foi: 6.0\n"
          ]
        }
      ]
    },
    {
      "cell_type": "markdown",
      "source": [
        "# ***Ex.36 - A confederação Nacional de natação precisa de um programa que leia o ano de nascimento de um atleta e mostre sua categoria, de acordo com a idade***\n",
        "# ***-Até 9 anos: Mirim***\n",
        "# ***-Ate 14 anos: Infantil***\n",
        "# ***-Ate 19 anos: Junior***\n",
        "# ***-Ate 25: Senior***\n",
        "# ***-Acima: Master***"
      ],
      "metadata": {
        "id": "GzY3C0pqWL5j"
      }
    },
    {
      "cell_type": "code",
      "source": [
        "from datetime import date\n",
        "ano_atual = date.today().year\n",
        "ano_nascimento = int(input(\"Digite o ano de nascimento: \"))\n",
        "idade = ano_atual - ano_nascimento\n",
        "print(\"Você tem {} anos, então sua categoria é: \".format(idade), end=\"\")\n",
        "if idade <= 9:\n",
        "  print(\"Mirim\")\n",
        "elif idade <= 14:\n",
        "  print(\"Infantil\")\n",
        "elif idade <= 19:\n",
        "  print(\"Junior\")\n",
        "elif idade <= 25:\n",
        "  print(\"Senior\")\n",
        "else:\n",
        "  print(\"Master\")"
      ],
      "metadata": {
        "id": "tmscuN8QXLEY",
        "colab": {
          "base_uri": "https://localhost:8080/"
        },
        "outputId": "04e17b79-d6e8-4821-b2e4-45522bee8e22"
      },
      "execution_count": null,
      "outputs": [
        {
          "output_type": "stream",
          "name": "stdout",
          "text": [
            "Digite o ano de nascimento: 2005\n",
            "Você tem 20 anos, então sua categoria é: Senior\n"
          ]
        }
      ]
    },
    {
      "cell_type": "markdown",
      "source": [
        "# ***Ex.37 - Refaça o desafio 30 dos triangulos, acrecendando o recurso de msotrar que tipo de triangulo sera formado:***\n",
        "# ***-Equilatero: todos os lados iguais***\n",
        "# ***-Isoceles: dois lados iguais***\n",
        "# ***-Escaleno: Todos os lados diferentes***"
      ],
      "metadata": {
        "id": "payawVLcXPa9"
      }
    },
    {
      "cell_type": "code",
      "source": [
        "r1 = float(input(\"Digite o primeiro segmento: \"))\n",
        "r2 = float(input(\"Digite o segundo segmento: \"))\n",
        "r3 = float(input(\"Digite o terceiro segmento: \"))\n",
        "\n",
        "if r1 < r2 + r3 and r2 < r1 + r3 and r3 < r1 + r2:\n",
        "  if r1 == r2 and r1 == r3 and r2 == r3:\n",
        "    print(\"a partir dos seguementos acima é possivel forma um triangulo Equilatero\")\n",
        "\n",
        "  elif  r1 == r2 or r1 == r3 or r2 == r3:\n",
        "    print(\"a partir dos seguementos acima é possivel forma um triangulo Isoceles\")\n",
        "\n",
        "  elif r1 != r2 and r1 != r3 and r2 != r3:\n",
        "    print(\"a partir dos seguementos acima é possivel forma um triangulo Escaleno\")\n",
        "\n",
        "else:\n",
        "  print(\"Os segmentos acima NÂO PODEM formar um triangulo\")\n",
        "\n",
        "#Aqui criei um if dentro de outro if para conseguir criar uma condição em cima de outra condição\n",
        "#Não coloquei o elif pq ia da erro, pq so posso criar uma condição em cima de outra se eu criar um novo if"
      ],
      "metadata": {
        "id": "7MYSCNBMYDza",
        "colab": {
          "base_uri": "https://localhost:8080/"
        },
        "outputId": "782e8952-d4c7-45a0-fb72-e442e98459f4"
      },
      "execution_count": null,
      "outputs": [
        {
          "output_type": "stream",
          "name": "stdout",
          "text": [
            "Digite o primeiro segmento: 1\n",
            "Digite o segundo segmento: 9\n",
            "Digite o terceiro segmento: 8\n",
            "Os segmentos acima NÂO PODEM formar um triangulo\n"
          ]
        }
      ]
    },
    {
      "cell_type": "markdown",
      "source": [
        "# ***Ex.43 - Desenvolva uma lógica que leia o peso e a altura de uma pessoa, calcule seu IMC e mostre seu status de acordo com a tabela abaixo:***\n",
        "# ***-Abaixo de 18.5: Abaixo do peso***\n",
        "# ***-Entre 18.5 e 25: peso ideal***\n",
        "# ***-25 até 30: sobrepeso***\n",
        "# ***-30 até 40: Obsesidade***\n",
        "# ***-Acima de 40: Obesidade mórbida***"
      ],
      "metadata": {
        "id": "vPkaXdQ0YXGc"
      }
    },
    {
      "cell_type": "code",
      "source": [
        "p = float(input(\"Digite o seu peso: Kg \"))\n",
        "h = float(input(\"Digite a sua altura: Metros \"))\n",
        "imc = p / (h * h)\n",
        "print(\"Seu imc é de: {:.1f}\".format(imc))\n",
        "if imc < 18.5:\n",
        "  print(\"Abaixo do peso\")\n",
        "elif imc >= 18.5 and imc <= 25:\n",
        "  print(\"Peso ideal\")\n",
        "elif imc > 25 and imc <= 30:\n",
        "  print(\"Sobrepeso\")\n",
        "elif imc > 30 and imc <= 40:\n",
        "  print(\"Obesidade\")\n",
        "else:\n",
        "  print(\"Obesidade mórbida\")"
      ],
      "metadata": {
        "id": "42YPZ0_1Zb3x",
        "colab": {
          "base_uri": "https://localhost:8080/"
        },
        "outputId": "55974741-449a-4f27-9808-036a75ff1947"
      },
      "execution_count": null,
      "outputs": [
        {
          "output_type": "stream",
          "name": "stdout",
          "text": [
            "Digite o seu peso: Kg 45\n",
            "Digite a sua altura: Metros 1.80\n",
            "Seu imc é de: 13.9\n",
            "Abaixo do peso\n"
          ]
        }
      ]
    },
    {
      "cell_type": "markdown",
      "source": [
        "# ***Ex.44 - Elabora e um programa que calcule o valor a ser pago por um produto, considerando  o seu preço normal e condição de pagamento:***\n",
        "# ***-Á vista dinheiro/cheque: 10% de desconto***\n",
        "# ***-Á vista no cartão: 5% de desconto***\n",
        "# ***-Em até 2x no cartão: preço normal***\n",
        "# ***-3x ou mais no cartão: 20% de juros***"
      ],
      "metadata": {
        "id": "N-ZWkU-ZZfG7"
      }
    },
    {
      "cell_type": "code",
      "source": [
        "print(\"{:=^40}\".format(\" LOJINHA DO LUIZ \"))\n",
        "preco = float(input(\"Preço das compras: R$\"))\n",
        "print('''FORMAS DE PAGAMENTO\n",
        " [1] à vista dinheiro/cheque\n",
        " [2] à vista cartão\n",
        " [3] 2x no cartão\n",
        " [4] 3x ou mais no cartão''')\n",
        "\n",
        "opcao = int(input(\"Qual é a opção? \"))\n",
        "\n",
        "if opcao == 1:\n",
        "  total = preco - (preco * 10/100)\n",
        "\n",
        "elif opcao == 2:\n",
        "  total = preco - (preco * 5/100)\n",
        "\n",
        "elif opcao == 3:\n",
        "  total = preco\n",
        "  parcela = total / 2\n",
        "  print(\"Sua compra será parcelada em 2x de R${:.2f} SEM JURO\".format(parcela))\n",
        "\n",
        "elif opcao == 4:\n",
        "  total = preco + (preco * 20/100)\n",
        "  total_parcelas = int(input(\"Quantas parcelas? \"))\n",
        "  parcela = total / total_parcelas\n",
        "  print(\"Sua compra será parcelada em {}x de R${:.2f} COM JUROS\".format(total_parcelas, parcela))\n",
        "\n",
        "else:\n",
        "  total = preco\n",
        "  print(\"Opção invalida de pagamento. Tente novamente\")\n",
        "\n",
        "print(\"Sua compra de R${} vai custar R${:.2f} no final\".format(preco, total))\n"
      ],
      "metadata": {
        "id": "xg65m25tasRk",
        "colab": {
          "base_uri": "https://localhost:8080/"
        },
        "outputId": "f30e69b5-5705-451d-a6df-4c1f39eb07a6"
      },
      "execution_count": null,
      "outputs": [
        {
          "output_type": "stream",
          "name": "stdout",
          "text": [
            "=========== LOJINHA DO LUIZ ============\n",
            "Preço das compras: R$400\n",
            "FORMAS DE PAGAMENTO\n",
            " [1] à vista dinheiro/cheque\n",
            " [2] à vista cartão\n",
            " [3] 2x no cartão\n",
            " [4] 3x ou mais no cartão\n",
            "Qual é a opção? 4\n",
            "Quantas parcelas? 10\n",
            "Sua compra será parcelada em 10x de R$48.00 COM JUROS\n",
            "Sua compra de R$400.0 vai custar R$480.00 no final\n"
          ]
        }
      ]
    },
    {
      "cell_type": "markdown",
      "source": [
        "# ***Ex.45 - Crie um programa que faça o computador jogar Jokenpô com você***"
      ],
      "metadata": {
        "id": "nhC70AVHaybu"
      }
    },
    {
      "cell_type": "code",
      "source": [
        "from random import choice\n",
        "from time import sleep\n",
        "\n",
        "print(\"-=\"*15)\n",
        "print(\"Vamos jogar Jokenpô?\")\n",
        "print(\"-=\"*15)\n",
        "\n",
        "escolhas = [\"PEDRA\", \"PAPEL\", \"TESOURA\"]\n",
        "computador = choice(escolhas)\n",
        "\n",
        "print('''Escolha entre:\\n\n",
        "  [ Pedra ]\n",
        "  [ Papel ]\n",
        "  [ Tesoura ]''')\n",
        "\n",
        "jogador = input(\"\\nSua opção: \").strip().upper()\n",
        "\n",
        "print(\"JO\")\n",
        "sleep(1)\n",
        "print(\"KEN\")\n",
        "sleep(1)\n",
        "print(\"PO!!!\")\n",
        "print(\"-=\"*15)\n",
        "\n",
        "if computador == \"PEDRA\" and jogador == \"PAPEL\" or computador == \"TESOURA\" and jogador == \"PEDRA\" or computador == \"PAPEL\" and jogador == \"TESOURA\":\n",
        " print(\"{} vence {}\".format(jogador, computador))\n",
        " print(\"Você ganhou!\")\n",
        "\n",
        "elif computador == \"PAPEL\" and jogador == \"PEDRA\" or computador == \"PEDRA\" and jogador == \"TESOURA\" or computador == \"TESOURA\" and jogador == \"PAPEL\":\n",
        "  print(\"{} vence {}\".format(computador, jogador))\n",
        "  print(\"O computador ganhou!\")\n",
        "\n",
        "else:\n",
        "  print(\"Empate\")"
      ],
      "metadata": {
        "id": "InzdUrv9a_-k",
        "colab": {
          "base_uri": "https://localhost:8080/"
        },
        "outputId": "7872ff1d-4328-4f9b-8912-3b0cd4d3b162"
      },
      "execution_count": null,
      "outputs": [
        {
          "output_type": "stream",
          "name": "stdout",
          "text": [
            "-=-=-=-=-=-=-=-=-=-=-=-=-=-=-=\n",
            "Vamos jogar Jokenpô?\n",
            "-=-=-=-=-=-=-=-=-=-=-=-=-=-=-=\n",
            "Escolha entre:\n",
            " \n",
            "  [ Pedra ] \n",
            "  [ Papel ]\n",
            "  [ Tesoura ]\n",
            "\n",
            "Sua opção: tesoura\n",
            "JO\n",
            "KEN\n",
            "PO!!!\n",
            "-=-=-=-=-=-=-=-=-=-=-=-=-=-=-=\n",
            "PEDRA vence TESOURA\n",
            "O computador ganhou!\n"
          ]
        }
      ]
    },
    {
      "cell_type": "markdown",
      "source": [
        "# ***Estrutura de repetição***"
      ],
      "metadata": {
        "id": "9HhW_gJ0icw5"
      }
    },
    {
      "cell_type": "code",
      "source": [
        "#Laços de repetição:\n",
        "\"\"\"\n",
        "laço c no intevalo(0,10):\n",
        "  passo\n",
        "pega\n",
        "\"\"\"\n",
        "#ex:\n",
        "n = int(input(\"Digite um numero: \"))\n",
        "for c in range(0,n+1):\n",
        "  print(c)\n",
        "print(\"Fim!\")"
      ],
      "metadata": {
        "colab": {
          "base_uri": "https://localhost:8080/"
        },
        "id": "4TlYFUfUijYT",
        "outputId": "545fdc69-2670-49db-9d51-2b619afe6e83"
      },
      "execution_count": 15,
      "outputs": [
        {
          "output_type": "stream",
          "name": "stdout",
          "text": [
            "Digite um numero: 10\n",
            "0\n",
            "1\n",
            "2\n",
            "3\n",
            "4\n",
            "5\n",
            "6\n",
            "7\n",
            "8\n",
            "9\n",
            "10\n",
            "Fim!\n"
          ]
        }
      ]
    },
    {
      "cell_type": "code",
      "source": [
        "\"\"\"\n",
        "laço c no intevalo(0,3):\n",
        "  passo\n",
        "  pula\n",
        "passo\n",
        "pega\n",
        "\"\"\"\n",
        "i = int(input(\"Inicio: \"))\n",
        "f = int(input(\"Fim: \"))\n",
        "p = int(input(\"Passo: \"))\n",
        "for c in range(i, f+1, p):\n",
        "  print(c)\n",
        "print(\"FIM!\")"
      ],
      "metadata": {
        "colab": {
          "base_uri": "https://localhost:8080/"
        },
        "id": "NQOoMgXomv4l",
        "outputId": "648582e2-8d3d-47f9-950b-5bd0fba58009"
      },
      "execution_count": 20,
      "outputs": [
        {
          "output_type": "stream",
          "name": "stdout",
          "text": [
            "Inicio: 0\n",
            "Fim: 100\n",
            "Passo: 10\n",
            "0\n",
            "10\n",
            "20\n",
            "30\n",
            "40\n",
            "50\n",
            "60\n",
            "70\n",
            "80\n",
            "90\n",
            "100\n",
            "FIM!\n"
          ]
        }
      ]
    },
    {
      "cell_type": "code",
      "source": [
        "s = 0\n",
        "for c in range(0,3):\n",
        "  n = int(input(\"Digite um numero: \"))\n",
        "  s += n\n",
        "print(\"O somatorio de todos os valores foi {}\".format(s))"
      ],
      "metadata": {
        "colab": {
          "base_uri": "https://localhost:8080/"
        },
        "id": "uQGhrPTnrlHs",
        "outputId": "06ec25da-58b8-4d97-defa-c4e5fde0e058"
      },
      "execution_count": 26,
      "outputs": [
        {
          "output_type": "stream",
          "name": "stdout",
          "text": [
            "Digite um numero: 4\n",
            "Digite um numero: 2\n",
            "Digite um numero: 3\n",
            "O somatorio de todos os valores foi 9\n"
          ]
        }
      ]
    },
    {
      "cell_type": "code",
      "source": [
        "#laço de repetição com condicional:\n",
        "\"\"\"\n",
        "laço c no intevalo(1,10):\n",
        "  se tiver moeda:\n",
        "    pega\n",
        "  passo\n",
        "  pula\n",
        "passo\n",
        "pega\n",
        "\"\"\""
      ],
      "metadata": {
        "id": "ibsNfU6-m5H1"
      },
      "execution_count": null,
      "outputs": []
    },
    {
      "cell_type": "markdown",
      "source": [
        "## ***Ex.46: Faça um programa que mostre na tela uma contagm regressiva para o estouro de fogos de artificio, indo de 10 até 0, com uma pausa de 1 segundo entre eles***"
      ],
      "metadata": {
        "id": "m7uu7G0Jsv_O"
      }
    },
    {
      "cell_type": "code",
      "source": [
        "from time import sleep\n",
        "for c in range(10, -1, -1):\n",
        "  print(c)\n",
        "  sleep(1)\n",
        "print(\"BUM! BUM! POOW!\")"
      ],
      "metadata": {
        "colab": {
          "base_uri": "https://localhost:8080/"
        },
        "id": "aA7q2NR4tNN9",
        "outputId": "27d19671-8b70-4cde-fa26-a9e707dd01f8"
      },
      "execution_count": 60,
      "outputs": [
        {
          "output_type": "stream",
          "name": "stdout",
          "text": [
            "10\n",
            "9\n",
            "8\n",
            "7\n",
            "6\n",
            "5\n",
            "4\n",
            "3\n",
            "2\n",
            "1\n",
            "0\n",
            "BUM! BUM! POOW!\n"
          ]
        }
      ]
    },
    {
      "cell_type": "markdown",
      "source": [
        "# ***Ex.47: Crie um programa que mostre na tela todos os numeros pares que estão no intervalo entre 1 e 50.***"
      ],
      "metadata": {
        "id": "k70QbB4TtUGs"
      }
    },
    {
      "cell_type": "code",
      "source": [],
      "metadata": {
        "colab": {
          "base_uri": "https://localhost:8080/"
        },
        "id": "zagOIeCItk_t",
        "outputId": "3e81dcba-16f5-4dac-c2f5-9d18aa972ca1"
      },
      "execution_count": 39,
      "outputs": [
        {
          "output_type": "stream",
          "name": "stdout",
          "text": [
            "BUM! BUM! POOW!\n"
          ]
        }
      ]
    },
    {
      "cell_type": "markdown",
      "source": [
        "# ***Ex.48: Faça um programa que calcule a soma entre todos os numeros impares que são multiplos de 3 e que se encontram no intervalor de 1 até 500.***"
      ],
      "metadata": {
        "id": "d-F-xR5QtlaN"
      }
    },
    {
      "cell_type": "code",
      "source": [],
      "metadata": {
        "id": "QZi9hSuot2YM"
      },
      "execution_count": null,
      "outputs": []
    },
    {
      "cell_type": "markdown",
      "source": [
        "# ***Ex.49: Refaça o desafio da tabuada mostrando a tabuada de um numero que o usuario escolher, só que agora utilizando um laço for***"
      ],
      "metadata": {
        "id": "tUTv82cZt_JJ"
      }
    },
    {
      "cell_type": "code",
      "source": [],
      "metadata": {
        "id": "SFIO2cFjuRth"
      },
      "execution_count": null,
      "outputs": []
    },
    {
      "cell_type": "markdown",
      "source": [
        "# ***Ex.50: Desenvolva um programa que leia 6 numeros inteiros e mostre a soma apenas daqueles que foram pares. Se o valor for impar, desconsidere-o***"
      ],
      "metadata": {
        "id": "ijtV8mtPuUZS"
      }
    },
    {
      "cell_type": "code",
      "source": [],
      "metadata": {
        "id": "0VIBKN-supY7"
      },
      "execution_count": null,
      "outputs": []
    },
    {
      "cell_type": "markdown",
      "source": [
        "# ***Ex.51: Desenvolva um programa que leia o primeiro termo e a razão de uma PA (progreção aritimetrica). No final, mostre os 10 primeiros termos dessa progreção.***"
      ],
      "metadata": {
        "id": "38vuVpHnurJ7"
      }
    },
    {
      "cell_type": "code",
      "source": [],
      "metadata": {
        "id": "FVpYlhpcvK-d"
      },
      "execution_count": null,
      "outputs": []
    },
    {
      "cell_type": "markdown",
      "source": [
        "# ***Ex.52: Faça um programa que leia um número inteiro e diga se ele é ou não um número primo.***"
      ],
      "metadata": {
        "id": "ijZ3XnR4vSJd"
      }
    },
    {
      "cell_type": "code",
      "source": [],
      "metadata": {
        "id": "uhM9rIG2vrTl"
      },
      "execution_count": null,
      "outputs": []
    },
    {
      "cell_type": "markdown",
      "source": [
        "# ***Ex.53: Crie um programa que leia uma frase qualquer e diga se ela é um palindromo, desconsidere os espaços.***"
      ],
      "metadata": {
        "id": "yWMmwgncvumz"
      }
    },
    {
      "cell_type": "code",
      "source": [],
      "metadata": {
        "id": "-BQG5x3Hwmzy"
      },
      "execution_count": null,
      "outputs": []
    },
    {
      "cell_type": "markdown",
      "source": [
        "# ***Ex.54 - Crie um programa que leia o ano de nascimento de sete pessoas. No final, mostre quantas pessoas ainda não atingiram a maioridade e quantas já são maiores.***"
      ],
      "metadata": {
        "id": "y_3_4XEHw4-j"
      }
    },
    {
      "cell_type": "code",
      "source": [],
      "metadata": {
        "id": "zke_8DvJxRot"
      },
      "execution_count": null,
      "outputs": []
    },
    {
      "cell_type": "markdown",
      "source": [
        "# ***`Ex.55 - Faça um programa que leia o peso de cinco pessoas. No final, mostre qual foi o maior e o menor peso lidos`***"
      ],
      "metadata": {
        "id": "p1bnn96UxUyf"
      }
    },
    {
      "cell_type": "code",
      "source": [],
      "metadata": {
        "id": "CJUsk7uqxmcj"
      },
      "execution_count": null,
      "outputs": []
    },
    {
      "cell_type": "markdown",
      "source": [
        "# ***`Ex.56 - Desenvolva um programa que leia o nome, idade e sexo de 4 pessoas. No final do programa, mostre:`***\n",
        "\n",
        "# ***> A media de idade do grupo.***\n",
        "\n",
        "## ***> Qual é o nome do homem mais velho. negrito***\n",
        "\n",
        "# ***> Quantas mulheres têm menos de 20 anos.***"
      ],
      "metadata": {
        "id": "z837jv-CxoFn"
      }
    },
    {
      "cell_type": "code",
      "source": [],
      "metadata": {
        "id": "HIY0xr1VzBkl"
      },
      "execution_count": null,
      "outputs": []
    }
  ]
}